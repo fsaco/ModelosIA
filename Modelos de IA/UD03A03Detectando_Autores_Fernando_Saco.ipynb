{
  "cells": [
    {
      "cell_type": "markdown",
      "id": "9707d650",
      "metadata": {
        "id": "9707d650"
      },
      "source": [
        "# Práctica: \"¿Quién dijo qué? – Detectando Autores con IA\" ️\n",
        "### Objetivo\n",
        "Construiremos un sistema para predecir el autor de un texto basándonos en su estilo de escritura.\n",
        "\n",
        "### Pasos:\n",
        "1. Cargar y preprocesar textos de diferentes autores.\n",
        "2. Representarlos con TF-IDF.\n",
        "3. Calcular similitudes usando el coseno.\n",
        "4. Predecir el autor más probable.\n",
        "\n",
        "---"
      ]
    },
    {
      "cell_type": "code",
      "execution_count": 1,
      "id": "ee28eb6c",
      "metadata": {
        "id": "ee28eb6c"
      },
      "outputs": [],
      "source": [
        "!pip install -q scikit-learn numpy\n",
        "import numpy as np\n",
        "from sklearn.feature_extraction.text import TfidfVectorizer\n",
        "from sklearn.metrics.pairwise import cosine_similarity\n",
        "import re"
      ]
    },
    {
      "cell_type": "markdown",
      "id": "ee158157",
      "metadata": {
        "id": "ee158157"
      },
      "source": [
        "## 1️⃣ Cargar y Preprocesar los Textos"
      ]
    },
    {
      "cell_type": "code",
      "execution_count": 17,
      "id": "fd39204c",
      "metadata": {
        "id": "fd39204c"
      },
      "outputs": [],
      "source": [
        "# Ejemplo de textos de diferentes autores\n",
        "\n",
        "texto_quijote1 = \"En un lugar de la Mancha, de cuyo nombre no quiero acordarme, no ha mucho tiempo que vivía un hidalgo de los de lanza en astillero, adarga antigua, rocín flaco y galgo corredor. Una olla de algo más vaca que carnero, salpicón las más noches, duelos y quebrantos los sábados, lentejas los viernes, algún palomino de añadidura los domingos, consumían las tres partes de su hacienda. El resto della concluían sayo de velarte, calzas de velludo para las fiestas, con sus pantuflos de lo mesmo, y los días de entre semana se honraba con su vellorí de lo más fino. Tenía en su casa una ama que pasaba de los cuarenta, y una sobrina que no llegaba a los veinte, y un mozo de campo y plaza, que así ensillaba el rocín como tomaba la podadera.\"\n",
        "texto_quijote2 = \"Digo, pues, que, entre otras cosas que tenía descuidadas este hidalgo, era de su ordinario cuidado el de su caballo Rocinante, y así lo tenía en un rincón de un patio, arrimado a una estaca, donde le tenía atado con una cuerda, y, cuando le quería ensillar, le daba una palmada en el trasero y le decía: «¡Ea, Rocinante, ea!», como si el animal entendiera lo que le decía; y, como el pobre animal era de condición sufrida, ni se movía ni hacía ademán alguno, y así lo ensillaba y montaba sin dificultad alguna. Y, cuando quería salir a alguna parte, le decía: «¡Ea, Rocinante, ea!», y el animal, como si entendiera lo que le decía, se ponía en camino sin dificultad alguna.\"\n",
        "texto_lazarillo = \"Pues, siendo niño de ocho años, achacaron a mi padre ciertas sangrías mal hechas en los costales de la parroquia, y, por ellas, fue preso, y confesó, y no negó, y padeció persecución por justicia. Espero en Dios que está en la gloria, pues el evangelista dice bienaventurados los que padecen persecución por justicia. En este tiempo, se hizo cierta armada contra moros, entre los cuales fue mi padre, que a la sazón estaba desterrado, 1  y con cargo de acemilero de un caballero, allí feneció su vida.\"\n",
        "texto_inventado = \"Ayer me encontré con un tipo que se creía la última Coca-Cola del desierto. Iba todo flipado, diciendo que era un influencer y que tenía miles de seguidores. Le pregunté si sabía lo que era un libro, y me miró como si le hubiera hablado en chino\"\n",
        "\n",
        "# Preprocesamiento de textos\n",
        "\n",
        "def minuscula_y_sin_puntuacion(texto):\n",
        "    texto = texto.lower()\n",
        "    # Eliminar puntuación y caracteres especiales utilizando expresiones regulares\n",
        "    texto = re.sub(r'[^\\w\\s]', ' ', texto)\n",
        "    return texto\n",
        "\n",
        "texto_quijote1 = minuscula_y_sin_puntuacion(texto_quijote1)\n",
        "texto_quijote2 = minuscula_y_sin_puntuacion(texto_quijote2)\n",
        "texto_lazarillo = minuscula_y_sin_puntuacion(texto_lazarillo)\n",
        "texto_inventado = minuscula_y_sin_puntuacion(texto_inventado)\n",
        "\n",
        "\n",
        "\n"
      ]
    },
    {
      "cell_type": "markdown",
      "id": "ca803259",
      "metadata": {
        "id": "ca803259"
      },
      "source": [
        "## 2️⃣ Representación con TF-IDF"
      ]
    },
    {
      "cell_type": "code",
      "execution_count": 18,
      "id": "39df55a1",
      "metadata": {
        "id": "39df55a1",
        "colab": {
          "base_uri": "https://localhost:8080/"
        },
        "outputId": "4eb73f0e-2c86-44b9-8f58-b30f0580ad66"
      },
      "outputs": [
        {
          "output_type": "stream",
          "name": "stdout",
          "text": [
            "Matriz dos textos del Quijote\n",
            "\n",
            "[[0.05885171 0.05885171 0.         0.05885171 0.         0.\n",
            "  0.05885171 0.05885171 0.         0.05885171 0.         0.05885171\n",
            "  0.04187347 0.         0.05885171 0.         0.05885171 0.\n",
            "  0.05885171 0.05885171 0.05885171 0.04187347 0.08374695 0.05885171\n",
            "  0.         0.05885171 0.05885171 0.         0.         0.05885171\n",
            "  0.         0.         0.05885171 0.         0.58622863 0.\n",
            "  0.05885171 0.         0.         0.         0.05885171 0.\n",
            "  0.05885171 0.05885171 0.         0.08374695 0.12562042 0.04187347\n",
            "  0.         0.         0.04187347 0.         0.         0.\n",
            "  0.05885171 0.05885171 0.05885171 0.05885171 0.05885171 0.05885171\n",
            "  0.         0.04187347 0.05885171 0.11770341 0.05885171 0.17655512\n",
            "  0.         0.05885171 0.05885171 0.08374695 0.41196194 0.05885171\n",
            "  0.05885171 0.05885171 0.         0.         0.05885171 0.05885171\n",
            "  0.17655512 0.         0.17655512 0.05885171 0.05885171 0.05885171\n",
            "  0.         0.         0.         0.05885171 0.05885171 0.05885171\n",
            "  0.         0.05885171 0.05885171 0.         0.05885171 0.\n",
            "  0.05885171 0.         0.         0.20936737 0.05885171 0.\n",
            "  0.05885171 0.05885171 0.         0.         0.11770341 0.\n",
            "  0.05885171 0.05885171 0.04187347 0.05885171 0.         0.\n",
            "  0.05885171 0.12562042 0.         0.05885171 0.05885171 0.04187347\n",
            "  0.05885171 0.05885171 0.         0.05885171 0.12562042 0.12562042\n",
            "  0.05885171 0.05885171 0.05885171 0.05885171 0.05885171 0.05885171\n",
            "  0.05885171]\n",
            " [0.         0.         0.06491516 0.         0.19474548 0.06491516\n",
            "  0.         0.         0.19474548 0.         0.06491516 0.\n",
            "  0.09237534 0.06491516 0.         0.06491516 0.         0.06491516\n",
            "  0.         0.         0.         0.13856301 0.04618767 0.\n",
            "  0.06491516 0.         0.         0.06491516 0.12983032 0.\n",
            "  0.06491516 0.06491516 0.         0.06491516 0.18475068 0.25966064\n",
            "  0.         0.06491516 0.12983032 0.06491516 0.         0.06491516\n",
            "  0.         0.         0.25966064 0.23093835 0.13856301 0.04618767\n",
            "  0.06491516 0.12983032 0.04618767 0.12983032 0.06491516 0.06491516\n",
            "  0.         0.         0.         0.         0.         0.\n",
            "  0.06491516 0.04618767 0.         0.         0.         0.\n",
            "  0.45440611 0.         0.         0.18475068 0.         0.\n",
            "  0.         0.         0.06491516 0.06491516 0.         0.\n",
            "  0.         0.12983032 0.         0.         0.         0.\n",
            "  0.06491516 0.06491516 0.06491516 0.         0.         0.\n",
            "  0.06491516 0.         0.         0.06491516 0.         0.06491516\n",
            "  0.         0.06491516 0.06491516 0.18475068 0.         0.12983032\n",
            "  0.         0.         0.06491516 0.19474548 0.         0.06491516\n",
            "  0.         0.         0.09237534 0.         0.12983032 0.12983032\n",
            "  0.         0.09237534 0.06491516 0.         0.         0.13856301\n",
            "  0.         0.         0.06491516 0.         0.09237534 0.13856301\n",
            "  0.         0.         0.         0.         0.         0.\n",
            "  0.        ]]\n",
            "\n",
            "Matriz un texto del Quijote y un texto de lazarillo\n",
            "\n",
            "[[0.         0.         0.06125589 0.06125589 0.06125589 0.06125589\n",
            "  0.         0.06125589 0.06125589 0.         0.06125589 0.06125589\n",
            "  0.06125589 0.         0.         0.         0.06125589 0.06125589\n",
            "  0.         0.06125589 0.06125589 0.         0.         0.06125589\n",
            "  0.08716815 0.06125589 0.         0.06125589 0.         0.06125589\n",
            "  0.         0.         0.06125589 0.06125589 0.61017702 0.06125589\n",
            "  0.         0.         0.         0.06125589 0.06125589 0.06125589\n",
            "  0.08716815 0.         0.13075222 0.06125589 0.04358407 0.\n",
            "  0.         0.         0.         0.         0.         0.06125589\n",
            "  0.06125589 0.06125589 0.         0.06125589 0.         0.06125589\n",
            "  0.06125589 0.         0.06125589 0.         0.06125589 0.\n",
            "  0.08716815 0.06125589 0.18376768 0.06125589 0.06125589 0.12251179\n",
            "  0.30508851 0.06125589 0.         0.06125589 0.06125589 0.\n",
            "  0.         0.06125589 0.06125589 0.18376768 0.         0.\n",
            "  0.13075222 0.06125589 0.06125589 0.         0.06125589 0.\n",
            "  0.         0.         0.06125589 0.06125589 0.06125589 0.\n",
            "  0.06125589 0.06125589 0.         0.06125589 0.06125589 0.\n",
            "  0.         0.         0.21792036 0.06125589 0.06125589 0.06125589\n",
            "  0.12251179 0.06125589 0.         0.06125589 0.         0.04358407\n",
            "  0.06125589 0.         0.06125589 0.13075222 0.06125589 0.06125589\n",
            "  0.06125589 0.04358407 0.06125589 0.06125589 0.13075222 0.18376768\n",
            "  0.06125589 0.06125589 0.06125589 0.06125589 0.06125589 0.\n",
            "  0.06125589 0.06125589]\n",
            " [0.09671056 0.09671056 0.         0.         0.         0.\n",
            "  0.09671056 0.         0.         0.09671056 0.         0.\n",
            "  0.         0.09671056 0.09671056 0.09671056 0.         0.\n",
            "  0.09671056 0.         0.         0.09671056 0.09671056 0.\n",
            "  0.06881036 0.         0.09671056 0.         0.09671056 0.\n",
            "  0.09671056 0.09671056 0.         0.         0.27524143 0.\n",
            "  0.09671056 0.09671056 0.09671056 0.         0.         0.\n",
            "  0.06881036 0.09671056 0.27524143 0.         0.06881036 0.09671056\n",
            "  0.09671056 0.09671056 0.09671056 0.09671056 0.09671056 0.\n",
            "  0.         0.         0.19342111 0.         0.09671056 0.\n",
            "  0.         0.09671056 0.         0.09671056 0.         0.19342111\n",
            "  0.20643107 0.         0.         0.         0.         0.\n",
            "  0.20643107 0.         0.09671056 0.         0.         0.19342111\n",
            "  0.09671056 0.         0.         0.         0.09671056 0.09671056\n",
            "  0.06881036 0.         0.         0.09671056 0.         0.09671056\n",
            "  0.09671056 0.19342111 0.         0.         0.         0.09671056\n",
            "  0.         0.         0.19342111 0.         0.         0.29013167\n",
            "  0.09671056 0.19342111 0.20643107 0.         0.         0.\n",
            "  0.         0.         0.09671056 0.         0.09671056 0.06881036\n",
            "  0.         0.09671056 0.         0.06881036 0.         0.\n",
            "  0.         0.06881036 0.         0.         0.06881036 0.\n",
            "  0.         0.         0.         0.         0.         0.09671056\n",
            "  0.         0.        ]]\n",
            "\n",
            "Matriz un texto del Quijote y un texto inventado\n",
            "\n",
            "[[0.05777491 0.05777491 0.05777491 0.05777491 0.05777491 0.05777491\n",
            "  0.05777491 0.05777491 0.         0.05777491 0.05777491 0.05777491\n",
            "  0.05777491 0.05777491 0.         0.         0.         0.04110732\n",
            "  0.08221465 0.05777491 0.05777491 0.05777491 0.         0.05777491\n",
            "  0.05777491 0.57550252 0.         0.05777491 0.         0.\n",
            "  0.05777491 0.05777491 0.05777491 0.11554982 0.12332197 0.\n",
            "  0.05777491 0.05777491 0.         0.05777491 0.05777491 0.05777491\n",
            "  0.         0.05777491 0.05777491 0.         0.05777491 0.05777491\n",
            "  0.05777491 0.         0.         0.         0.08221465 0.05777491\n",
            "  0.17332473 0.         0.05777491 0.         0.05777491 0.08221465\n",
            "  0.40442436 0.05777491 0.05777491 0.         0.05777491 0.\n",
            "  0.         0.05777491 0.05777491 0.17332473 0.17332473 0.05777491\n",
            "  0.05777491 0.05777491 0.05777491 0.05777491 0.05777491 0.05777491\n",
            "  0.05777491 0.05777491 0.05777491 0.         0.20553662 0.05777491\n",
            "  0.05777491 0.05777491 0.11554982 0.         0.05777491 0.05777491\n",
            "  0.04110732 0.         0.05777491 0.         0.05777491 0.17332473\n",
            "  0.05777491 0.05777491 0.04110732 0.05777491 0.         0.\n",
            "  0.05777491 0.05777491 0.12332197 0.17332473 0.05777491 0.05777491\n",
            "  0.05777491 0.05777491 0.05777491 0.05777491 0.05777491 0.        ]\n",
            " [0.         0.         0.         0.         0.         0.\n",
            "  0.         0.         0.13398273 0.         0.         0.\n",
            "  0.         0.         0.13398273 0.13398273 0.13398273 0.09532981\n",
            "  0.09532981 0.         0.         0.         0.13398273 0.\n",
            "  0.         0.09532981 0.13398273 0.         0.13398273 0.13398273\n",
            "  0.         0.         0.         0.         0.09532981 0.13398273\n",
            "  0.         0.         0.26796545 0.         0.         0.\n",
            "  0.13398273 0.         0.         0.13398273 0.         0.\n",
            "  0.         0.13398273 0.13398273 0.13398273 0.09532981 0.\n",
            "  0.         0.26796545 0.         0.13398273 0.         0.09532981\n",
            "  0.         0.         0.         0.26796545 0.         0.13398273\n",
            "  0.13398273 0.         0.         0.         0.         0.\n",
            "  0.         0.         0.         0.         0.         0.\n",
            "  0.         0.         0.         0.13398273 0.38131926 0.\n",
            "  0.         0.         0.         0.13398273 0.         0.\n",
            "  0.09532981 0.13398273 0.         0.26796545 0.         0.\n",
            "  0.         0.         0.09532981 0.         0.13398273 0.13398273\n",
            "  0.         0.         0.28598944 0.         0.         0.\n",
            "  0.         0.         0.         0.         0.         0.13398273]]\n"
          ]
        }
      ],
      "source": [
        "from os import PRIO_USER\n",
        "# Vectorización con TF-IDF\n",
        "# Vectorización con TF-IDF\n",
        "vectorizer = TfidfVectorizer()\n",
        "matriz_tfidf_quijote = vectorizer.fit_transform([texto_quijote1, texto_quijote2])\n",
        "matriz_tfidf_quijote_lazarillo = vectorizer.fit_transform([texto_quijote1, texto_lazarillo])\n",
        "matriz_tfidf_inventado = vectorizer.fit_transform([texto_quijote1, texto_inventado])\n",
        "\n",
        "# La matriz TF-IDF resultante\n",
        "print(\"Matriz dos textos del Quijote\\n\")\n",
        "print(matriz_tfidf_quijote.toarray())\n",
        "print(\"\\nMatriz un texto del Quijote y un texto de lazarillo\\n\")\n",
        "print(matriz_tfidf_quijote_lazarillo.toarray())\n",
        "print(\"\\nMatriz un texto del Quijote y un texto inventado\\n\")\n",
        "print(matriz_tfidf_inventado.toarray())\n",
        "\n"
      ]
    },
    {
      "cell_type": "markdown",
      "id": "c7fdaa0e",
      "metadata": {
        "id": "c7fdaa0e"
      },
      "source": [
        "## 3️⃣ Cálculo de Similitudes"
      ]
    },
    {
      "cell_type": "code",
      "execution_count": 19,
      "id": "1b0e102d",
      "metadata": {
        "id": "1b0e102d",
        "colab": {
          "base_uri": "https://localhost:8080/"
        },
        "outputId": "3d38f644-909e-451a-9b56-c8155d6ce1b2"
      },
      "outputs": [
        {
          "output_type": "stream",
          "name": "stdout",
          "text": [
            "Similitud del coseno entre Quijote 1 y Quijote 2: 0.23004393042359342\n",
            "Similitud del coseno entre Quijote 1 y Lazarillo: 0.3193134424479354\n",
            "Similitud del coseno entre Quijote 1 y Inventado: 0.16571530737289317\n"
          ]
        }
      ],
      "source": [
        "# Función de similitud de coseno\n",
        "\n",
        "# Vectorización con TF-IDF,  incluyendo todos los textos en la misma matriz\n",
        "vectorizer = TfidfVectorizer()\n",
        "matriz_tfidf = vectorizer.fit_transform([texto_quijote1, texto_quijote2, texto_lazarillo, texto_inventado])\n",
        "\n",
        "# Cálculo de la similitud del coseno utilizando la matriz con todos los textos\n",
        "similitud_quijote1_quijote2 = cosine_similarity(matriz_tfidf[0], matriz_tfidf[1])[0][0]\n",
        "similitud_quijote1_lazarillo = cosine_similarity(matriz_tfidf[0], matriz_tfidf[2])[0][0]\n",
        "similitud_quijote1_inventado = cosine_similarity(matriz_tfidf[0], matriz_tfidf[3])[0][0]\n",
        "\n",
        "print(f\"Similitud del coseno entre Quijote 1 y Quijote 2: {similitud_quijote1_quijote2}\")\n",
        "print(f\"Similitud del coseno entre Quijote 1 y Lazarillo: {similitud_quijote1_lazarillo}\")\n",
        "print(f\"Similitud del coseno entre Quijote 1 y Inventado: {similitud_quijote1_inventado}\")\n",
        "\n"
      ]
    },
    {
      "cell_type": "markdown",
      "source": [
        "# Conclusiones\n",
        "Aunque curiosamente el primer texto del Quijote se parece más a uno extraído del Lazarillo de Tormes que a otro texto del propio Quijote, se ve la diferencia con un texto generado automáticamente con un lenguaje actual."
      ],
      "metadata": {
        "id": "VpCGz5p4jUu_"
      },
      "id": "VpCGz5p4jUu_"
    }
  ],
  "metadata": {
    "language_info": {
      "name": "python"
    },
    "colab": {
      "provenance": []
    },
    "kernelspec": {
      "name": "python3",
      "display_name": "Python 3"
    }
  },
  "nbformat": 4,
  "nbformat_minor": 5
}